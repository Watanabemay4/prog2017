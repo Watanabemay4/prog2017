{
 "cells": [
  {
   "cell_type": "code",
   "execution_count": null,
   "metadata": {
    "collapsed": true
   },
   "outputs": [],
   "source": [
    ">>> import turtle\n",
    ">>> turtle = turtle.Turtle()\n",
    ">>> turtle.position()\n",
    "(0.00,0.00)\n",
    ">>> t = turtle\n",
    ">>>\n",
    ">>> t.forward(200)\n",
    ">>> t.left(120)\n",
    ">>> t.forward(200)\n",
    ">>> t.left(120)\n",
    ">>> t.forward(200)\n",
    ">>>\n",
    ">>> t.home()\n",
    ">>> t.clear()\n",
    ">>> for i in range(3)\n",
    "  File \"<stdin>\", line 1\n",
    "    for i in range(3):\n",
    "...  t.forward(200)\n",
    "...  t.left(120)\n",
    "...\n",
    ">>>\n",
    ">>> t.home()\n",
    ">>> t.clear()\n",
    ">>> for i in range(5):\n",
    "...  t.forward(200)\n",
    "...  t.left(144)\n",
    "...\n",
    ">>>\n",
    ">>> t.home()\n",
    ">>> t.clear()\n",
    ">>> for i in range(4):\n",
    "...  t.up()\n",
    "...  t.forward(20)\n",
    "...  t.down()\n",
    "...  for x in range(4)\n",
    "  File \"<stdin>\", line 5\n",
    "    for x in range(4):\n",
    "...  t.forward(100)\n",
    "...  t.left(90)\n",
    "... t.left(-90)"
   ]
  }
 ],
 "metadata": {
  "kernelspec": {
   "display_name": "Python 3",
   "language": "python",
   "name": "python3"
  },
  "language_info": {
   "codemirror_mode": {
    "name": "ipython",
    "version": 3
   },
   "file_extension": ".py",
   "mimetype": "text/x-python",
   "name": "python",
   "nbconvert_exporter": "python",
   "pygments_lexer": "ipython3",
   "version": "3.6.0"
  }
 },
 "nbformat": 4,
 "nbformat_minor": 2
}
