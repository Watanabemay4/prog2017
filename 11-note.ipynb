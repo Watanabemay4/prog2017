{
 "cells": [
  {
   "cell_type": "code",
   "execution_count": 2,
   "metadata": {
    "collapsed": false
   },
   "outputs": [],
   "source": [
    "with open('c:/cit/test.txt', 'a', encoding='utf-8') as test_file:\n",
    " test_file.write('Hello, World!')"
   ]
  },
  {
   "cell_type": "code",
   "execution_count": 3,
   "metadata": {
    "collapsed": true
   },
   "outputs": [],
   "source": [
    "with open('c:/cit/test.txt', 'w', encoding='utf-8') as test_file:\n",
    " test_file.write('Hello!')"
   ]
  },
  {
   "cell_type": "code",
   "execution_count": 6,
   "metadata": {
    "collapsed": true
   },
   "outputs": [],
   "source": [
    "with open('c:/cit/record.txt','w',encoding='utf-8') as test_file:\n",
    " for x in range(1,101):\n",
    "    test_file.write(str(x))\n",
    "    test_file.write('\\n')"
   ]
  },
  {
   "cell_type": "code",
   "execution_count": 12,
   "metadata": {
    "collapsed": false
   },
   "outputs": [],
   "source": [
    "with open('c:/cit/record.csv','w',encoding='utf-8') as test_file:\n",
    "    for i in range(1,10):\n",
    "        for j in range(1,10):\n",
    "            test_file.write(str(i*j))\n",
    "            test_file.write(',')\n",
    "        test_file.write('\\n')"
   ]
  },
  {
   "cell_type": "code",
   "execution_count": 25,
   "metadata": {
    "collapsed": false
   },
   "outputs": [
    {
     "ename": "IndentationError",
     "evalue": "expected an indented block (<ipython-input-25-26b1874c046e>, line 2)",
     "output_type": "error",
     "traceback": [
      "\u001b[0;36m  File \u001b[0;32m\"<ipython-input-25-26b1874c046e>\"\u001b[0;36m, line \u001b[0;32m2\u001b[0m\n\u001b[0;31m    test_file.write('1,2,3,4\\n5,6,7,8\\n')\u001b[0m\n\u001b[0m            ^\u001b[0m\n\u001b[0;31mIndentationError\u001b[0m\u001b[0;31m:\u001b[0m expected an indented block\n"
     ]
    }
   ],
   "source": [
    "with open('c:/cit/test.txt', 'w', encoding='utf-8') as test_file:\n",
    "test_file.write('1,2,3,4\\n5,6,7,8\\n')"
   ]
  },
  {
   "cell_type": "code",
   "execution_count": 26,
   "metadata": {
    "collapsed": false
   },
   "outputs": [
    {
     "ename": "SyntaxError",
     "evalue": "invalid character in identifier (<ipython-input-26-70d3799217a1>, line 2)",
     "output_type": "error",
     "traceback": [
      "\u001b[0;36m  File \u001b[0;32m\"<ipython-input-26-70d3799217a1>\"\u001b[0;36m, line \u001b[0;32m2\u001b[0m\n\u001b[0;31m    test_file.write('1,2,3,4\\n5,6,7,8\\n')\u001b[0m\n\u001b[0m            ^\u001b[0m\n\u001b[0;31mSyntaxError\u001b[0m\u001b[0;31m:\u001b[0m invalid character in identifier\n"
     ]
    }
   ],
   "source": [
    "with open('c:/cit/test.txt', 'w', encoding='utf-8') as test_file:\n",
    "　　test_file.write('1,2,3,4\\n5,6,7,8\\n')"
   ]
  },
  {
   "cell_type": "code",
   "execution_count": 28,
   "metadata": {
    "collapsed": false
   },
   "outputs": [
    {
     "ename": "SyntaxError",
     "evalue": "invalid character in identifier (<ipython-input-28-2da583f663b5>, line 2)",
     "output_type": "error",
     "traceback": [
      "\u001b[0;36m  File \u001b[0;32m\"<ipython-input-28-2da583f663b5>\"\u001b[0;36m, line \u001b[0;32m2\u001b[0m\n\u001b[0;31m    for line in test_file:\u001b[0m\n\u001b[0m      ^\u001b[0m\n\u001b[0;31mSyntaxError\u001b[0m\u001b[0;31m:\u001b[0m invalid character in identifier\n"
     ]
    }
   ],
   "source": [
    "with open('c:/cit/test.txt', 'r', encoding='utf-8') as test_file:\n",
    "　for line in test_file:\n",
    "　　　　print(line)　"
   ]
  },
  {
   "cell_type": "code",
   "execution_count": 29,
   "metadata": {
    "collapsed": true
   },
   "outputs": [],
   "source": [
    "with open('c:/cit/test.txt', 'w', encoding='utf-8') as test_file:\n",
    "    test_file.write('1,2,3,4\\n5,6,7,8\\n')"
   ]
  },
  {
   "cell_type": "code",
   "execution_count": 32,
   "metadata": {
    "collapsed": false
   },
   "outputs": [
    {
     "name": "stdout",
     "output_type": "stream",
     "text": [
      "1,2,3,4\n",
      "\n",
      "5,6,7,8\n",
      "\n"
     ]
    }
   ],
   "source": [
    "with open('c:/cit/test.txt', 'r', encoding='utf-8') as test_file:\n",
    "    for line in test_file:\n",
    "        print(line)"
   ]
  },
  {
   "cell_type": "code",
   "execution_count": 33,
   "metadata": {
    "collapsed": false
   },
   "outputs": [
    {
     "name": "stdout",
     "output_type": "stream",
     "text": [
      "['1', '2', '3', '4\\n']\n",
      "['5', '6', '7', '8\\n']\n"
     ]
    }
   ],
   "source": [
    "with open('c:/cit/test.txt', 'r', encoding='utf-8') as test_file:\n",
    "    for line in test_file:\n",
    "        myData = line.split(',')\n",
    "        print(myData)"
   ]
  },
  {
   "cell_type": "code",
   "execution_count": 34,
   "metadata": {
    "collapsed": false
   },
   "outputs": [
    {
     "name": "stdout",
     "output_type": "stream",
     "text": [
      "['1', '2', '3', '4']\n",
      "['5', '6', '7', '8']\n"
     ]
    }
   ],
   "source": [
    "with open('c:/cit/test.txt', 'r', encoding='utf-8') as test_file:\n",
    "    for line in test_file:\n",
    "        myData = line.strip().split(',')\n",
    "        print(myData)"
   ]
  },
  {
   "cell_type": "code",
   "execution_count": 37,
   "metadata": {
    "collapsed": false
   },
   "outputs": [
    {
     "name": "stdout",
     "output_type": "stream",
     "text": [
      "10\n",
      "20\n",
      "30\n",
      "40\n",
      "50\n",
      "60\n",
      "70\n",
      "80\n"
     ]
    }
   ],
   "source": [
    "with open('c:/cit/test.txt', 'r', encoding='utf-8') as test_file:\n",
    "    for line in test_file:\n",
    "        myData = line.strip().split(',')\n",
    "        for x in myData:\n",
    "          print(int(x)*10)"
   ]
  },
  {
   "cell_type": "code",
   "execution_count": 38,
   "metadata": {
    "collapsed": false
   },
   "outputs": [
    {
     "name": "stdout",
     "output_type": "stream",
     "text": [
      "10\n",
      "26\n"
     ]
    }
   ],
   "source": [
    "with open('c:/cit/test.txt', 'r', encoding='utf-8') as test_file:\n",
    "    for line in test_file:\n",
    "        myData = line.strip().split(',')\n",
    "        total = 0\n",
    "        for x in myData:\n",
    "          total += int(x)\n",
    "        print(total)"
   ]
  },
  {
   "cell_type": "code",
   "execution_count": null,
   "metadata": {
    "collapsed": true
   },
   "outputs": [],
   "source": []
  },
  {
   "cell_type": "code",
   "execution_count": null,
   "metadata": {
    "collapsed": true
   },
   "outputs": [],
   "source": []
  }
 ],
 "metadata": {
  "kernelspec": {
   "display_name": "Python 3",
   "language": "python",
   "name": "python3"
  },
  "language_info": {
   "codemirror_mode": {
    "name": "ipython",
    "version": 3
   },
   "file_extension": ".py",
   "mimetype": "text/x-python",
   "name": "python",
   "nbconvert_exporter": "python",
   "pygments_lexer": "ipython3",
   "version": "3.6.0"
  }
 },
 "nbformat": 4,
 "nbformat_minor": 2
}
